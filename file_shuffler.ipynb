{
 "cells": [
  {
   "cell_type": "code",
   "execution_count": null,
   "id": "a503ea39",
   "metadata": {},
   "outputs": [],
   "source": [
    "import pandas as pd\n",
    "import os\n",
    "import glob\n",
    "import shutil\n",
    "import random"
   ]
  },
  {
   "cell_type": "code",
   "execution_count": null,
   "id": "11bce27b",
   "metadata": {},
   "outputs": [],
   "source": [
    "random.seed(9) # seed so other people can shuffle it in the same order\n",
    "\n",
    "image_path = \"./git/yolo-station-images/Imagens dataset 17 classes até 16-08-2021/\"\n",
    "label_path = \"./git/yolo-station/labels_17class/\"\n",
    "\n",
    "file_list = os.path.join(os.path.join(label_path, \"*.*\"))\n",
    "image_list = []\n",
    "label_list = []\n",
    "crop_list = []\n",
    "crop_label_list = []\n",
    "\n",
    "file_list = glob.glob(file_list)\n",
    "random.shuffle(file_list)\n",
    "\n",
    "for name in file_list:\n",
    "    label_list.append(name)\n",
    "\n",
    "for name in file_list:\n",
    "    file = name.split(\"/\")[-1]    \n",
    "    file = os.path.splitext(file)[0]\n",
    "    image_list.append(image_path + str(file))"
   ]
  },
  {
   "cell_type": "code",
   "execution_count": null,
   "id": "443bc84f",
   "metadata": {
    "scrolled": true,
    "tags": []
   },
   "outputs": [],
   "source": [
    "directory = \"./17_classes/train/\"\n",
    "check_path = os.path.isdir(directory)\n",
    "\n",
    "if not check_path:\n",
    "    os.makedirs(directory)\n",
    "    print(\"created folder : \", directory)    \n",
    "for i in range(0, int(len(label_list)*0.6)+1):\n",
    "    name = glob.glob(image_list[i]+\"*\")\n",
    "    if(len(name) > 0):\n",
    "        shutil.copy(image_list[i] + os.path.splitext(name[0])[1], directory)\n",
    "        shutil.copy(label_list[i], directory)\n",
    "    else:\n",
    "        print(image_list[i])\n",
    "\n",
    "element = i\n",
    "directory = \"./17_classes/valid/\"\n",
    "check_path = os.path.isdir(directory)\n",
    "if not check_path:\n",
    "    os.makedirs(directory)\n",
    "    print(\"created folder : \", directory)    \n",
    "for i in range(element, element + int(len(label_list)*0.2)+1):\n",
    "    name = glob.glob(image_list[i]+\"*\")\n",
    "    if(len(name) > 0):\n",
    "        shutil.copy(image_list[i] + os.path.splitext(name[0])[1], directory)\n",
    "        shutil.copy(label_list[i], directory)\n",
    "    else:\n",
    "        print(image_list[i])\n",
    "\n",
    "element = i\n",
    "directory = \"./17_classes/test/\"\n",
    "check_path = os.path.isdir(directory)\n",
    "if not check_path:\n",
    "    os.makedirs(directory)\n",
    "    print(\"created folder : \", directory)    \n",
    "for i in range(element, element + int(len(label_list)*0.2)):\n",
    "    name = glob.glob(image_list[i]+\"*\")\n",
    "    if(len(name) > 0):\n",
    "        shutil.copy(image_list[i] + os.path.splitext(name[0])[1], directory)\n",
    "        shutil.copy(label_list[i], directory)\n",
    "    else:\n",
    "        print(image_list[i])"
   ]
  },
  {
   "cell_type": "code",
   "execution_count": null,
   "id": "509c08d9",
   "metadata": {},
   "outputs": [],
   "source": [
    "import cv2\n",
    "import os\n",
    "import glob\n",
    "\n",
    "\n",
    "image_path = \"./Imagens dataset 17 classes até 16-08-2021/\"\n",
    "\n",
    "file_list = os.path.join(os.path.join(image_path, \"*.*\"))\n",
    "image_list = []\n",
    "\n",
    "file_list = glob.glob(file_list)\n",
    "for name in file_list:\n",
    "    image_list.append(name)\n",
    "\n",
    "for filename in image_list:\n",
    "    print(filename)\n",
    "    #cv2.imread('C:/tensorflow/models/research/object_detection/images/train/'+filename)\n",
    "    cv2.imread(filename)"
   ]
  }
 ],
 "metadata": {
  "kernelspec": {
   "display_name": "Python 3 (ipykernel)",
   "language": "python",
   "name": "python3"
  },
  "language_info": {
   "codemirror_mode": {
    "name": "ipython",
    "version": 3
   },
   "file_extension": ".py",
   "mimetype": "text/x-python",
   "name": "python",
   "nbconvert_exporter": "python",
   "pygments_lexer": "ipython3",
   "version": "3.8.8"
  }
 },
 "nbformat": 4,
 "nbformat_minor": 5
}
