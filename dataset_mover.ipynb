{
 "cells": [
  {
   "cell_type": "code",
   "execution_count": 1,
   "id": "663c31e4",
   "metadata": {},
   "outputs": [],
   "source": [
    "import pandas as pd\n",
    "import os\n",
    "import shutil"
   ]
  },
  {
   "cell_type": "code",
   "execution_count": 7,
   "id": "0af0d85d",
   "metadata": {},
   "outputs": [
    {
     "name": "stdout",
     "output_type": "stream",
     "text": [
      "created folder :  ./train/\n",
      "created folder :  ./valid/\n",
      "created folder :  ./test/\n"
     ]
    }
   ],
   "source": [
    "# replace those with the correct paths relative to the location of the notebook\n",
    "image_path = \"./VOC_full/archive/images/\" \n",
    "label_path = \"./VOC_full/archive/labels/\"\n",
    "files_path = \"./VOC_full/archive/train.csv\"\n",
    "\n",
    "files = pd.read_csv(files_path, sep = \",\", names=[\"image\", \"label\"])\n",
    "\n",
    "# checks if the dir exists before attempting to move the files\n",
    "directory = \"./VOC_full/train/\"\n",
    "check_path = os.path.isdir(directory)\n",
    "if not check_path:\n",
    "    os.makedirs(directory)\n",
    "    print(\"created folder : \", directory)\n",
    "# NOTE: if you want to copy the files instead of MOVING them, change shutil.copy\n",
    "# to shutil.copy in those fors\n",
    "for i in range(0, 3600):\n",
    "    shutil.copy(image_path + files[\"image\"][i], directory + files[\"image\"][i])\n",
    "    shutil.copy(label_path + files[\"label\"][i], directory + files[\"label\"][i])\n",
    "\n",
    "directory = \"./VOC_full/valid/\"\n",
    "check_path = os.path.isdir(directory)\n",
    "if not check_path:\n",
    "    os.makedirs(directory)\n",
    "    print(\"created folder : \", directory)\n",
    "for i in range(3600, 4800):\n",
    "    shutil.copy(image_path + files[\"image\"][i], directory + files[\"image\"][i])\n",
    "    shutil.copy(label_path + files[\"label\"][i], directory + files[\"label\"][i])\n",
    "    \n",
    "directory = \"./VOC_full/test/\"\n",
    "check_path = os.path.isdir(directory)\n",
    "if not check_path:\n",
    "    os.makedirs(directory)\n",
    "    print(\"created folder : \", directory)\n",
    "for i in range(4800, 6000):\n",
    "    shutil.copy(image_path + files[\"image\"][i], directory + files[\"image\"][i])\n",
    "    shutil.copy(label_path + files[\"label\"][i], directory + files[\"label\"][i])"
   ]
  },
  {
   "cell_type": "code",
   "execution_count": 4,
   "id": "57755927",
   "metadata": {},
   "outputs": [],
   "source": [
    "# replace those with the correct paths relative to the location of the notebook\n",
    "image_path = \"./VOC_full/archive/images/\" \n",
    "label_path = \"./VOC_full/archive/labels/\"\n",
    "files_path = \"./VOC_full/archive/test.csv\"\n",
    "\n",
    "files = pd.read_csv(files_path, sep = \",\", names=[\"image\", \"label\"])\n",
    "\n",
    "# checks if the dir exists before attempting to move the files\n",
    "directory = \"./VOC_full/valid/\"\n",
    "check_path = os.path.isdir(directory)\n",
    "if not check_path:\n",
    "    os.makedirs(directory)\n",
    "    print(\"created folder : \", directory)\n",
    "# NOTE: if you want to copy the files instead of MOVING them, change shutil.copy\n",
    "# to shutil.copy in those fors\n",
    "for i in range(0, len(files)):\n",
    "    shutil.copy(image_path + files[\"image\"][i], directory + files[\"image\"][i])\n",
    "    shutil.copy(label_path + files[\"label\"][i], directory + files[\"label\"][i])"
   ]
  }
 ],
 "metadata": {
  "kernelspec": {
   "display_name": "Python 3 (ipykernel)",
   "language": "python",
   "name": "python3"
  },
  "language_info": {
   "codemirror_mode": {
    "name": "ipython",
    "version": 3
   },
   "file_extension": ".py",
   "mimetype": "text/x-python",
   "name": "python",
   "nbconvert_exporter": "python",
   "pygments_lexer": "ipython3",
   "version": "3.8.8"
  }
 },
 "nbformat": 4,
 "nbformat_minor": 5
}
